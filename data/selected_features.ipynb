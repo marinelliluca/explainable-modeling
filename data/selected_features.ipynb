{
 "cells": [
  {
   "cell_type": "code",
   "execution_count": null,
   "metadata": {},
   "outputs": [],
   "source": [
    "import pandas as pd"
   ]
  },
  {
   "cell_type": "code",
   "execution_count": null,
   "metadata": {},
   "outputs": [],
   "source": [
    "dict_of_dfs ={}\n",
    "\n",
    "for tasks in [(\"boys\", \"girls\"), (\"boys\", \"mixed\"), (\"girls\", \"mixed\")]:\n",
    "    fn = f\"selected_features_{tasks[0]}_{tasks[1]}.csv\" # see binary_xgboost_optimizer.py\n",
    "    dict_of_dfs[tasks] = pd.read_csv(fn, index_col=\"stimulus_id\")\n",
    "\n",
    "    features = dict_of_dfs[classes].columns\n",
    "    features.drop(\"target\")\n",
    "    print(f\"{tasks[0]} vs. {tasks[1]}, n_feat={len(features)}\")"
   ]
  },
  {
   "cell_type": "code",
   "execution_count": null,
   "metadata": {},
   "outputs": [],
   "source": [
    "# find intersection of features\n",
    "common_features = set.intersection(*[set(dict_of_dfs[classes].columns) for classes in dict_of_dfs])"
   ]
  },
  {
   "cell_type": "code",
   "execution_count": null,
   "metadata": {},
   "outputs": [],
   "source": [
    "# find intersection between pairs of tasks\n",
    "tasks = [(\"boys\", \"girls\"), (\"boys\", \"mixed\"), (\"girls\", \"mixed\")]\n",
    "\n",
    "a, b, c = tasks\n",
    "\n",
    "pairs = [(a, b), (a, c), (b, c)]\n",
    "\n",
    "for pair in pairs:\n",
    "    inters = set.intersection(*[set(dict_of_dfs[classes].columns) for classes in pair])\n",
    "    print(f\"{pair[0]} vs. {pair[1]}: {len(inters)} including target column\")\n",
    "    display(inters)\n"
   ]
  },
  {
   "cell_type": "code",
   "execution_count": null,
   "metadata": {},
   "outputs": [],
   "source": []
  }
 ],
 "metadata": {
  "kernelspec": {
   "display_name": "explainable_modeling",
   "language": "python",
   "name": "python3"
  },
  "language_info": {
   "codemirror_mode": {
    "name": "ipython",
    "version": 3
   },
   "file_extension": ".py",
   "mimetype": "text/x-python",
   "name": "python",
   "nbconvert_exporter": "python",
   "pygments_lexer": "ipython3",
   "version": "3.11.5"
  }
 },
 "nbformat": 4,
 "nbformat_minor": 2
}
