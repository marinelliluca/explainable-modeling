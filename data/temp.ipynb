{
 "cells": [
  {
   "cell_type": "code",
   "execution_count": 1,
   "metadata": {},
   "outputs": [],
   "source": [
    "import pandas as pd"
   ]
  },
  {
   "cell_type": "code",
   "execution_count": 2,
   "metadata": {},
   "outputs": [
    {
     "name": "stdout",
     "output_type": "stream",
     "text": [
      "boys vs. girls, n_feat=32\n",
      "boys vs. mixed, n_feat=38\n",
      "girls vs. mixed, n_feat=32\n"
     ]
    }
   ],
   "source": [
    "dict_of_dfs ={}\n",
    "\n",
    "for tasks in [(\"boys\", \"girls\"), (\"boys\", \"mixed\"), (\"girls\", \"mixed\")]:\n",
    "    fn = f\"selected_features_{tasks[0]}_{tasks[1]}.csv\" # see binary_xgboost_optimizer.py\n",
    "    dict_of_dfs[tasks] = pd.read_csv(fn, index_col=\"stimulus_id\")\n",
    "\n",
    "    features = dict_of_dfs[tasks].columns\n",
    "    features = features.drop(\"target\")\n",
    "    features = features.tolist()\n",
    "    print(f\"{tasks[0]} vs. {tasks[1]}, n_feat={len(features)}\")"
   ]
  },
  {
   "cell_type": "code",
   "execution_count": 3,
   "metadata": {},
   "outputs": [],
   "source": [
    "# find intersection of features\n",
    "common_features = set.intersection(*[set(dict_of_dfs[classes].columns) for classes in dict_of_dfs])"
   ]
  },
  {
   "cell_type": "code",
   "execution_count": 4,
   "metadata": {},
   "outputs": [
    {
     "name": "stdout",
     "output_type": "stream",
     "text": [
      "('boys', 'girls') vs. ('boys', 'mixed'): 33 including target column\n"
     ]
    },
    {
     "data": {
      "text/plain": [
       "{'dynamics_rms_Mean',\n",
       " 'fluctuation_centroid_Mean',\n",
       " 'fluctuation_peak_PeakMagMean',\n",
       " 'fluctuation_peak_PeakPosMean',\n",
       " 'rhythm_attack_time_Mean',\n",
       " 'rhythm_tempo_Mean',\n",
       " 'spectral_brightness_Mean',\n",
       " 'spectral_irregularity_Mean',\n",
       " 'spectral_mfcc_Mean_1',\n",
       " 'spectral_mfcc_Mean_10',\n",
       " 'spectral_mfcc_Mean_11',\n",
       " 'spectral_mfcc_Mean_12',\n",
       " 'spectral_mfcc_Mean_13',\n",
       " 'spectral_mfcc_Mean_2',\n",
       " 'spectral_mfcc_Mean_3',\n",
       " 'spectral_mfcc_Mean_4',\n",
       " 'spectral_mfcc_Mean_5',\n",
       " 'spectral_mfcc_Mean_6',\n",
       " 'spectral_mfcc_Mean_8',\n",
       " 'spectral_mfcc_Mean_9',\n",
       " 'spectral_rolloff95_Mean',\n",
       " 'spectral_roughness_Mean',\n",
       " 'spectral_spectentropy_Mean',\n",
       " 'spectral_spread_Mean',\n",
       " 'target',\n",
       " 'timbre_lowenergy_Mean',\n",
       " 'timbre_spectralflux_Mean',\n",
       " 'timbre_zerocross_Mean',\n",
       " 'tonal_chromagram_centroid_Mean',\n",
       " 'tonal_chromagram_peak_PeakPosMean',\n",
       " 'tonal_hcdf_Mean',\n",
       " 'tonal_keyclarity_Mean',\n",
       " 'tonal_mode_Mean'}"
      ]
     },
     "metadata": {},
     "output_type": "display_data"
    },
    {
     "name": "stdout",
     "output_type": "stream",
     "text": [
      "('boys', 'girls') vs. ('girls', 'mixed'): 30 including target column\n"
     ]
    },
    {
     "data": {
      "text/plain": [
       "{'dynamics_rms_Mean',\n",
       " 'fluctuation_centroid_Mean',\n",
       " 'fluctuation_peak_PeakPosMean',\n",
       " 'rhythm_tempo_Mean',\n",
       " 'spectral_brightness_Mean',\n",
       " 'spectral_irregularity_Mean',\n",
       " 'spectral_mfcc_Mean_1',\n",
       " 'spectral_mfcc_Mean_10',\n",
       " 'spectral_mfcc_Mean_11',\n",
       " 'spectral_mfcc_Mean_13',\n",
       " 'spectral_mfcc_Mean_2',\n",
       " 'spectral_mfcc_Mean_3',\n",
       " 'spectral_mfcc_Mean_4',\n",
       " 'spectral_mfcc_Mean_5',\n",
       " 'spectral_mfcc_Mean_6',\n",
       " 'spectral_mfcc_Mean_8',\n",
       " 'spectral_mfcc_Mean_9',\n",
       " 'spectral_rolloff95_Mean',\n",
       " 'spectral_roughness_Mean',\n",
       " 'spectral_spectentropy_Mean',\n",
       " 'spectral_spread_Mean',\n",
       " 'target',\n",
       " 'timbre_lowenergy_Mean',\n",
       " 'timbre_spectralflux_Mean',\n",
       " 'timbre_zerocross_Mean',\n",
       " 'tonal_chromagram_centroid_Mean',\n",
       " 'tonal_chromagram_peak_PeakPosMean',\n",
       " 'tonal_hcdf_Mean',\n",
       " 'tonal_keyclarity_Mean',\n",
       " 'tonal_mode_Mean'}"
      ]
     },
     "metadata": {},
     "output_type": "display_data"
    },
    {
     "name": "stdout",
     "output_type": "stream",
     "text": [
      "('boys', 'mixed') vs. ('girls', 'mixed'): 33 including target column\n"
     ]
    },
    {
     "data": {
      "text/plain": [
       "{'dynamics_rms_Mean',\n",
       " 'fluctuation_centroid_Mean',\n",
       " 'fluctuation_peak_PeakPosMean',\n",
       " 'rhythm_attack_slope_Mean',\n",
       " 'rhythm_tempo_Mean',\n",
       " 'spectral_brightness_Mean',\n",
       " 'spectral_centroid_Mean',\n",
       " 'spectral_irregularity_Mean',\n",
       " 'spectral_mfcc_Mean_1',\n",
       " 'spectral_mfcc_Mean_10',\n",
       " 'spectral_mfcc_Mean_11',\n",
       " 'spectral_mfcc_Mean_13',\n",
       " 'spectral_mfcc_Mean_2',\n",
       " 'spectral_mfcc_Mean_3',\n",
       " 'spectral_mfcc_Mean_4',\n",
       " 'spectral_mfcc_Mean_5',\n",
       " 'spectral_mfcc_Mean_6',\n",
       " 'spectral_mfcc_Mean_7',\n",
       " 'spectral_mfcc_Mean_8',\n",
       " 'spectral_mfcc_Mean_9',\n",
       " 'spectral_rolloff95_Mean',\n",
       " 'spectral_roughness_Mean',\n",
       " 'spectral_spectentropy_Mean',\n",
       " 'spectral_spread_Mean',\n",
       " 'target',\n",
       " 'timbre_lowenergy_Mean',\n",
       " 'timbre_spectralflux_Mean',\n",
       " 'timbre_zerocross_Mean',\n",
       " 'tonal_chromagram_centroid_Mean',\n",
       " 'tonal_chromagram_peak_PeakPosMean',\n",
       " 'tonal_hcdf_Mean',\n",
       " 'tonal_keyclarity_Mean',\n",
       " 'tonal_mode_Mean'}"
      ]
     },
     "metadata": {},
     "output_type": "display_data"
    }
   ],
   "source": [
    "# find intersection between pairs of tasks\n",
    "tasks = [(\"boys\", \"girls\"), (\"boys\", \"mixed\"), (\"girls\", \"mixed\")]\n",
    "\n",
    "a, b, c = tasks\n",
    "\n",
    "pairs = [(a, b), (a, c), (b, c)]\n",
    "\n",
    "for pair in pairs:\n",
    "    inters = set.intersection(*[set(dict_of_dfs[classes].columns) for classes in pair])\n",
    "    print(f\"{pair[0]} vs. {pair[1]}: {len(inters)} including target column\")\n",
    "    display(inters)\n"
   ]
  },
  {
   "cell_type": "code",
   "execution_count": null,
   "metadata": {},
   "outputs": [],
   "source": []
  }
 ],
 "metadata": {
  "kernelspec": {
   "display_name": "explainable_modeling",
   "language": "python",
   "name": "python3"
  },
  "language_info": {
   "codemirror_mode": {
    "name": "ipython",
    "version": 3
   },
   "file_extension": ".py",
   "mimetype": "text/x-python",
   "name": "python",
   "nbconvert_exporter": "python",
   "pygments_lexer": "ipython3",
   "version": "3.11.5"
  }
 },
 "nbformat": 4,
 "nbformat_minor": 2
}
